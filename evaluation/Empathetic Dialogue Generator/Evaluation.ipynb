{
 "cells": [
  {
   "cell_type": "code",
   "execution_count": 2,
   "metadata": {},
   "outputs": [],
   "source": [
    "from transformers import T5Tokenizer, T5ForConditionalGeneration\n",
    "import torch\n",
    "import evaluate\n"
   ]
  },
  {
   "cell_type": "code",
   "execution_count": 3,
   "metadata": {},
   "outputs": [],
   "source": [
    "from transformers import AutoTokenizer, AutoModelForSeq2SeqLM\n",
    "\n",
    "model_name = \"madhavappaneni/t5-small-empathetic-dialogues\"\n",
    "\n",
    "device = torch.device('cuda' if torch.cuda.is_available() else 'cpu')\n",
    "\n",
    "tokenizer = T5Tokenizer.from_pretrained(model_name)\n",
    "model = T5ForConditionalGeneration.from_pretrained(model_name).to(device)\n"
   ]
  },
  {
   "cell_type": "code",
   "execution_count": 12,
   "metadata": {},
   "outputs": [
    {
     "data": {
      "text/plain": [
       "\"Oh no! I'm sorry. What happened?\""
      ]
     },
     "execution_count": 12,
     "metadata": {},
     "output_type": "execute_result"
    }
   ],
   "source": [
    "def generate_response(input_text):\n",
    "    input_ids = tokenizer.encode(input_text, return_tensors='pt')\n",
    "    outputs = model.generate(input_ids,\n",
    "                             max_length=30,\n",
    "                             do_sample=True,\n",
    "                             num_beams=5,\n",
    "                             no_repeat_ngram_size=2)\n",
    "    generated_text = tokenizer.decode(\n",
    "        outputs[0], skip_special_tokens=True)\n",
    "    return generated_text\n",
    "\n",
    "\n",
    "generate_response(\"My car crashed yesterday\")\n"
   ]
  },
  {
   "cell_type": "code",
   "execution_count": 13,
   "metadata": {},
   "outputs": [
    {
     "data": {
      "text/plain": [
       "(5242, 1)"
      ]
     },
     "execution_count": 13,
     "metadata": {},
     "output_type": "execute_result"
    }
   ],
   "source": [
    "import pandas as pd\n",
    "\n",
    "test_df = pd.read_pickle('./datasets/test.pkl')\n",
    "\n",
    "test_df.shape\n"
   ]
  },
  {
   "cell_type": "code",
   "execution_count": 14,
   "metadata": {},
   "outputs": [
    {
     "name": "stdout",
     "output_type": "stream",
     "text": [
      "[\"I'm sorry to hear that.\", \"That's awesome! What kind of chocolate did you get?\", \"That's a good thing. I'm sure he'll do well.\", \"I'm sorry to hear that.\"]\n",
      "[\"Why did you feel guilty? People really shouldn't drive drunk.\", 'Wow that must have been a surprise for you', 'you got a great husband', \"I know how you feel, it's terrible. I actually moved to a completely different state due to hi taxes.\"]\n"
     ]
    }
   ],
   "source": [
    "reference_sentences = []\n",
    "generated_sentences = []\n",
    "start = 1\n",
    "end = 5\n",
    "for index, row in test_df[start:end].iterrows():\n",
    "    input_text, label = row['conversation']['input_text'], row['conversation']['label']\n",
    "    generated_sentences.append(generate_response(input_text))\n",
    "    reference_sentences.append(label)\n",
    "\n",
    "print(generated_sentences)\n",
    "print(reference_sentences)\n"
   ]
  },
  {
   "cell_type": "code",
   "execution_count": 15,
   "metadata": {},
   "outputs": [
    {
     "name": "stderr",
     "output_type": "stream",
     "text": [
      "Token indices sequence length is longer than the specified maximum sequence length for this model (1879 > 512). Running this sequence through the model will result in indexing errors\n"
     ]
    }
   ],
   "source": [
    "batch_size = 100\n",
    "num_batches = int(len(test_df) / batch_size)\n",
    "\n",
    "for batch in range(num_batches):\n",
    "    start_index = batch * batch_size\n",
    "    # start_index = batch * batch_size + 2600\n",
    "    end_index = min(start_index + batch_size, len(test_df))\n",
    "    batch_data = test_df[start_index:end_index]\n",
    "    reference_sentences = []\n",
    "    generated_sentences = []\n",
    "    for index, row in batch_data.iterrows():\n",
    "        input_text, label = row['conversation']['input_text'], row['conversation']['label']\n",
    "        generated_sentences.append(generate_response(input_text))\n",
    "        reference_sentences.append(label)\n",
    "    df = pd.DataFrame({'reference_sentences': reference_sentences,\n",
    "                       'generated_sentences': generated_sentences})\n",
    "    df.to_pickle(f'./files/ref_gen_{start_index}.pkl')\n"
   ]
  },
  {
   "cell_type": "code",
   "execution_count": 16,
   "metadata": {},
   "outputs": [],
   "source": [
    "import os\n",
    "import pandas as pd\n",
    "\n",
    "# Create an empty list to store the DataFrames\n",
    "df_list = []\n",
    "\n",
    "directory = './files/'\n",
    "\n",
    "# Loop through all the files in the directory\n",
    "for filename in os.listdir(directory):\n",
    "    if filename.endswith('.pkl'):\n",
    "        # Read the file as a DataFrame and append to the list\n",
    "        filepath = os.path.join(directory, filename)\n",
    "        df_list.append(pd.read_pickle(filepath))\n",
    "\n",
    "# Concatenate all the DataFrames in the list into a single DataFrame\n",
    "merged_df = pd.concat(df_list, ignore_index=True)\n",
    "merged_df.shape\n",
    "merged_df.to_pickle('./files/ref_gen_master.pkl')\n"
   ]
  },
  {
   "cell_type": "code",
   "execution_count": 17,
   "metadata": {},
   "outputs": [
    {
     "data": {
      "text/html": [
       "<div>\n",
       "<style scoped>\n",
       "    .dataframe tbody tr th:only-of-type {\n",
       "        vertical-align: middle;\n",
       "    }\n",
       "\n",
       "    .dataframe tbody tr th {\n",
       "        vertical-align: top;\n",
       "    }\n",
       "\n",
       "    .dataframe thead th {\n",
       "        text-align: right;\n",
       "    }\n",
       "</style>\n",
       "<table border=\"1\" class=\"dataframe\">\n",
       "  <thead>\n",
       "    <tr style=\"text-align: right;\">\n",
       "      <th></th>\n",
       "      <th>reference_sentences</th>\n",
       "      <th>generated_sentences</th>\n",
       "    </tr>\n",
       "  </thead>\n",
       "  <tbody>\n",
       "    <tr>\n",
       "      <th>0</th>\n",
       "      <td>Well if you stay in touch then I'm sure she'll...</td>\n",
       "      <td>That's a good idea. I'm sorry to hear that.</td>\n",
       "    </tr>\n",
       "    <tr>\n",
       "      <th>1</th>\n",
       "      <td>What book do you enjoy reading?</td>\n",
       "      <td>That's great. What kind of wine do you have?</td>\n",
       "    </tr>\n",
       "    <tr>\n",
       "      <th>2</th>\n",
       "      <td>No, actually I'm under a lot of stress right n...</td>\n",
       "      <td>I love historical novels and legal dramas. I'm...</td>\n",
       "    </tr>\n",
       "    <tr>\n",
       "      <th>3</th>\n",
       "      <td>Where is your home village?</td>\n",
       "      <td>That's so sad! I'm sorry to hear that. What di...</td>\n",
       "    </tr>\n",
       "    <tr>\n",
       "      <th>4</th>\n",
       "      <td>That's a shame. I\"m sorry to hear that.</td>\n",
       "      <td>That's a lot of fun. I'm so glad you're able t...</td>\n",
       "    </tr>\n",
       "  </tbody>\n",
       "</table>\n",
       "</div>"
      ],
      "text/plain": [
       "                                 reference_sentences  \\\n",
       "0  Well if you stay in touch then I'm sure she'll...   \n",
       "1                    What book do you enjoy reading?   \n",
       "2  No, actually I'm under a lot of stress right n...   \n",
       "3                        Where is your home village?   \n",
       "4            That's a shame. I\"m sorry to hear that.   \n",
       "\n",
       "                                 generated_sentences  \n",
       "0        That's a good idea. I'm sorry to hear that.  \n",
       "1       That's great. What kind of wine do you have?  \n",
       "2  I love historical novels and legal dramas. I'm...  \n",
       "3  That's so sad! I'm sorry to hear that. What di...  \n",
       "4  That's a lot of fun. I'm so glad you're able t...  "
      ]
     },
     "execution_count": 17,
     "metadata": {},
     "output_type": "execute_result"
    }
   ],
   "source": [
    "merged_df = pd.read_pickle('./files/ref_gen_master.pkl')\n",
    "merged_df.head()\n"
   ]
  },
  {
   "cell_type": "code",
   "execution_count": 18,
   "metadata": {},
   "outputs": [
    {
     "data": {
      "text/plain": [
       "(5200, 5200)"
      ]
     },
     "execution_count": 18,
     "metadata": {},
     "output_type": "execute_result"
    }
   ],
   "source": [
    "reference_sentences = list(merged_df['reference_sentences'])\n",
    "generated_sentences = list(merged_df['generated_sentences'])\n",
    "len(reference_sentences), len(generated_sentences)\n"
   ]
  },
  {
   "cell_type": "markdown",
   "metadata": {},
   "source": [
    "#BLEU\n"
   ]
  },
  {
   "cell_type": "code",
   "execution_count": 19,
   "metadata": {},
   "outputs": [
    {
     "data": {
      "text/plain": [
       "0.017902194965308524"
      ]
     },
     "execution_count": 19,
     "metadata": {},
     "output_type": "execute_result"
    }
   ],
   "source": [
    "bleu = evaluate.load(\"bleu\", module_type=\"metric\")\n",
    "results = bleu.compute(predictions=generated_sentences,\n",
    "                       references=reference_sentences)\n",
    "\n",
    "results['bleu']\n"
   ]
  },
  {
   "attachments": {},
   "cell_type": "markdown",
   "metadata": {},
   "source": [
    "#BLEURT\n"
   ]
  },
  {
   "cell_type": "code",
   "execution_count": 20,
   "metadata": {},
   "outputs": [],
   "source": [
    "# bleurt = evaluate.load(\"bleurt\", module_type=\"metric\")\n",
    "# results = bleurt.compute(predictions=generated_sentences,\n",
    "#                          references=reference_sentences)\n"
   ]
  },
  {
   "cell_type": "markdown",
   "metadata": {},
   "source": [
    "#BERT\n"
   ]
  },
  {
   "cell_type": "code",
   "execution_count": 21,
   "metadata": {},
   "outputs": [
    {
     "name": "stderr",
     "output_type": "stream",
     "text": [
      "Some weights of the model checkpoint at roberta-large were not used when initializing RobertaModel: ['lm_head.dense.bias', 'lm_head.layer_norm.weight', 'lm_head.decoder.weight', 'lm_head.layer_norm.bias', 'lm_head.bias', 'lm_head.dense.weight']\n",
      "- This IS expected if you are initializing RobertaModel from the checkpoint of a model trained on another task or with another architecture (e.g. initializing a BertForSequenceClassification model from a BertForPreTraining model).\n",
      "- This IS NOT expected if you are initializing RobertaModel from the checkpoint of a model that you expect to be exactly identical (initializing a BertForSequenceClassification model from a BertForSequenceClassification model).\n"
     ]
    },
    {
     "name": "stdout",
     "output_type": "stream",
     "text": [
      "BERT score (F1): 0.86\n"
     ]
    }
   ],
   "source": [
    "from bert_score import score\n",
    "\n",
    "precision, recall, f1 = score(\n",
    "    generated_sentences, reference_sentences, lang='en', verbose=False)\n",
    "\n",
    "print(f\"BERT score (F1): {f1.mean().item():.2f}\")\n"
   ]
  },
  {
   "cell_type": "markdown",
   "metadata": {},
   "source": [
    "#ROUGE\n"
   ]
  },
  {
   "cell_type": "code",
   "execution_count": 22,
   "metadata": {},
   "outputs": [
    {
     "data": {
      "text/plain": [
       "{'rouge1': 0.1705165416871462,\n",
       " 'rouge2': 0.03395053421928472,\n",
       " 'rougeL': 0.15224178051421672,\n",
       " 'rougeLsum': 0.15217369523103003}"
      ]
     },
     "execution_count": 22,
     "metadata": {},
     "output_type": "execute_result"
    }
   ],
   "source": [
    "import evaluate\n",
    "rouge = evaluate.load('rouge')\n",
    "rouge_score = rouge.compute(\n",
    "    predictions=generated_sentences, references=reference_sentences)\n",
    "rouge_score\n"
   ]
  },
  {
   "cell_type": "markdown",
   "metadata": {},
   "source": [
    "#Perplexity\n"
   ]
  },
  {
   "cell_type": "code",
   "execution_count": null,
   "metadata": {},
   "outputs": [],
   "source": [
    "# perplexity = evaluate.load(\"perplexity\", module_type=\"metric\")\n",
    "# perplexity_results = perplexity.compute(\n",
    "#     predictions=generated_sentences, model_id='gpt2')\n",
    "# print(f\"Perplexity score: {perplexity_results['mean_perplexity']}\")\n",
    "\n",
    "# TODO:\n",
    "# This code takes a lot of time to run as it compares with GPT2 response. Perplexity can also be calculated from loss. Check that possibility\n"
   ]
  }
 ],
 "metadata": {
  "kernelspec": {
   "display_name": "Python 3",
   "language": "python",
   "name": "python3"
  },
  "language_info": {
   "codemirror_mode": {
    "name": "ipython",
    "version": 3
   },
   "file_extension": ".py",
   "mimetype": "text/x-python",
   "name": "python",
   "nbconvert_exporter": "python",
   "pygments_lexer": "ipython3",
   "version": "3.9.6"
  },
  "orig_nbformat": 4
 },
 "nbformat": 4,
 "nbformat_minor": 2
}
