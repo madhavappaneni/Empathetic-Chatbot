{
 "cells": [
  {
   "cell_type": "code",
   "execution_count": 2,
   "metadata": {},
   "outputs": [],
   "source": [
    "import chitchat_dataset as ccc\n",
    "import pandas as pd\n",
    "\n",
    "raw_dataset = ccc.Dataset()\n",
    "\n",
    "datasets = (list(raw_dataset.values()))\n",
    "\n",
    "train_data = datasets[:int(len(datasets) * 0.8)]\n",
    "val_data = datasets[int(len(datasets) * 0.8):int(len(datasets) * 0.9)]\n",
    "test_data = datasets[int(len(datasets) * 0.9):]\n"
   ]
  },
  {
   "cell_type": "code",
   "execution_count": 3,
   "metadata": {},
   "outputs": [],
   "source": [
    "def save_files(df):\n",
    "    data_upd = []\n",
    "    max_hist_len = 1\n",
    "    for idx, convo in enumerate(df):\n",
    "        history = []\n",
    "        messages = convo['messages']\n",
    "        for idx, message in enumerate(messages):\n",
    "            if idx == 0:\n",
    "                continue\n",
    "            prev_message = ' SOC '.join([item['text']\n",
    "                                        for item in messages[idx - 1]])\n",
    "            curr_message = ' SOC '.join([item['text'] for item in message])\n",
    "            history.append(prev_message)\n",
    "            if idx % 2 == 0:\n",
    "                context = \" SOC \".join(history[-max_hist_len:])\n",
    "                data_upd.append(\n",
    "                    {'conversation': {'input_text': context, 'label': curr_message}})\n",
    "\n",
    "    out_df = pd.DataFrame(columns=['conversation'], data=data_upd)\n",
    "    return out_df\n"
   ]
  },
  {
   "cell_type": "code",
   "execution_count": 4,
   "metadata": {},
   "outputs": [],
   "source": [
    "train_data_out = save_files(train_data)\n",
    "test_data_out = save_files(test_data)\n",
    "val_data_out = save_files(val_data)\n",
    "train_data_out.to_pickle('./datasets/train.pkl')\n",
    "test_data_out.to_pickle('/datasets/test.pkl')\n",
    "val_data_out.to_pickle('/datasets/val.pkl')\n",
    "\n",
    "train_data_out[:100].to_pickle('./small/train.pkl')\n",
    "test_data_out[:100].to_pickle('./small/test.pkl')\n",
    "val_data_out[:100].to_pickle('./small/val.pkl')\n"
   ]
  },
  {
   "cell_type": "code",
   "execution_count": 5,
   "metadata": {},
   "outputs": [
    {
     "data": {
      "text/html": [
       "<div>\n",
       "<style scoped>\n",
       "    .dataframe tbody tr th:only-of-type {\n",
       "        vertical-align: middle;\n",
       "    }\n",
       "\n",
       "    .dataframe tbody tr th {\n",
       "        vertical-align: top;\n",
       "    }\n",
       "\n",
       "    .dataframe thead th {\n",
       "        text-align: right;\n",
       "    }\n",
       "</style>\n",
       "<table border=\"1\" class=\"dataframe\">\n",
       "  <thead>\n",
       "    <tr style=\"text-align: right;\">\n",
       "      <th></th>\n",
       "      <th>conversation</th>\n",
       "    </tr>\n",
       "  </thead>\n",
       "  <tbody>\n",
       "    <tr>\n",
       "      <th>0</th>\n",
       "      <td>{'input_text': 'Hello SOC How are you doing to...</td>\n",
       "    </tr>\n",
       "    <tr>\n",
       "      <th>1</th>\n",
       "      <td>{'input_text': 'Im alright, I just took a nap....</td>\n",
       "    </tr>\n",
       "    <tr>\n",
       "      <th>2</th>\n",
       "      <td>{'input_text': 'Yeah SOC did you go to bed lat...</td>\n",
       "    </tr>\n",
       "    <tr>\n",
       "      <th>3</th>\n",
       "      <td>{'input_text': 'I have more of a head ache tha...</td>\n",
       "    </tr>\n",
       "    <tr>\n",
       "      <th>4</th>\n",
       "      <td>{'input_text': 'No, Its just adjusting to a ti...</td>\n",
       "    </tr>\n",
       "    <tr>\n",
       "      <th>...</th>\n",
       "      <td>...</td>\n",
       "    </tr>\n",
       "    <tr>\n",
       "      <th>51687</th>\n",
       "      <td>{'input_text': 'Oh fun, What do you like about...</td>\n",
       "    </tr>\n",
       "    <tr>\n",
       "      <th>51688</th>\n",
       "      <td>{'input_text': 'That works too, Haha SOC Do yo...</td>\n",
       "    </tr>\n",
       "    <tr>\n",
       "      <th>51689</th>\n",
       "      <td>{'input_text': 'i would build the wall SOC sam...</td>\n",
       "    </tr>\n",
       "    <tr>\n",
       "      <th>51690</th>\n",
       "      <td>{'input_text': 'got to keep illegals out and m...</td>\n",
       "    </tr>\n",
       "    <tr>\n",
       "      <th>51691</th>\n",
       "      <td>{'input_text': 'from a financial stand point t...</td>\n",
       "    </tr>\n",
       "  </tbody>\n",
       "</table>\n",
       "<p>51692 rows × 1 columns</p>\n",
       "</div>"
      ],
      "text/plain": [
       "                                            conversation\n",
       "0      {'input_text': 'Hello SOC How are you doing to...\n",
       "1      {'input_text': 'Im alright, I just took a nap....\n",
       "2      {'input_text': 'Yeah SOC did you go to bed lat...\n",
       "3      {'input_text': 'I have more of a head ache tha...\n",
       "4      {'input_text': 'No, Its just adjusting to a ti...\n",
       "...                                                  ...\n",
       "51687  {'input_text': 'Oh fun, What do you like about...\n",
       "51688  {'input_text': 'That works too, Haha SOC Do yo...\n",
       "51689  {'input_text': 'i would build the wall SOC sam...\n",
       "51690  {'input_text': 'got to keep illegals out and m...\n",
       "51691  {'input_text': 'from a financial stand point t...\n",
       "\n",
       "[51692 rows x 1 columns]"
      ]
     },
     "execution_count": 5,
     "metadata": {},
     "output_type": "execute_result"
    }
   ],
   "source": [
    "train_data_out"
   ]
  },
  {
   "cell_type": "code",
   "execution_count": null,
   "metadata": {},
   "outputs": [],
   "source": []
  }
 ],
 "metadata": {
  "kernelspec": {
   "display_name": "Python 3",
   "language": "python",
   "name": "python3"
  },
  "language_info": {
   "codemirror_mode": {
    "name": "ipython",
    "version": 3
   },
   "file_extension": ".py",
   "mimetype": "text/x-python",
   "name": "python",
   "nbconvert_exporter": "python",
   "pygments_lexer": "ipython3",
   "version": "3.9.6"
  }
 },
 "nbformat": 4,
 "nbformat_minor": 2
}
