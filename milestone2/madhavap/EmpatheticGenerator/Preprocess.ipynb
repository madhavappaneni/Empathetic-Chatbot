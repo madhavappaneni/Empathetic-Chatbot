{
 "cells": [
  {
   "cell_type": "code",
   "execution_count": 1,
   "metadata": {},
   "outputs": [],
   "source": [
    "import pandas as pd\n"
   ]
  },
  {
   "cell_type": "code",
   "execution_count": 2,
   "metadata": {},
   "outputs": [
    {
     "name": "stderr",
     "output_type": "stream",
     "text": [
      "Found cached dataset empathetic_dialogues (/Users/madhavappaneni/.cache/huggingface/datasets/empathetic_dialogues/default/0.1.0/09bbeed3882a67db98c73952fb3c1c9a85af83dc78f81454c2454382fd03f6cf)\n"
     ]
    },
    {
     "data": {
      "application/vnd.jupyter.widget-view+json": {
       "model_id": "9f7c0a81589f4efa8009a08710cc3129",
       "version_major": 2,
       "version_minor": 0
      },
      "text/plain": [
       "  0%|          | 0/3 [00:00<?, ?it/s]"
      ]
     },
     "metadata": {},
     "output_type": "display_data"
    }
   ],
   "source": [
    "from datasets import load_dataset\n",
    "\n",
    "dataset = load_dataset(\"empathetic_dialogues\")\n"
   ]
  },
  {
   "cell_type": "code",
   "execution_count": 3,
   "metadata": {},
   "outputs": [],
   "source": [
    "raw_train_data = dataset['train']\n",
    "train_data = pd.DataFrame(raw_train_data)\n",
    "raw_test_data = dataset['test']\n",
    "test_data = pd.DataFrame(raw_test_data)\n",
    "raw_val_data = dataset['validation']\n",
    "val_data = pd.DataFrame(raw_val_data)\n"
   ]
  },
  {
   "cell_type": "code",
   "execution_count": 4,
   "metadata": {},
   "outputs": [],
   "source": [
    "train_data['utterance'] = train_data['utterance'].str.replace(\"_comma_\", \",\")\n",
    "val_data['utterance'] = val_data['utterance'].str.replace(\"_comma_\", \",\")\n",
    "test_data['utterance'] = test_data['utterance'].str.replace(\"_comma_\", \",\")\n"
   ]
  },
  {
   "cell_type": "code",
   "execution_count": 5,
   "metadata": {},
   "outputs": [],
   "source": [
    "\n",
    "def preprocess_data(df):\n",
    "    data_upd = []\n",
    "    history = []\n",
    "    max_hist_len = 3\n",
    "    for i in range(1, len(df)):\n",
    "        cparts = df.iloc[i - 1]\n",
    "        sparts = df.iloc[i]\n",
    "        if cparts[\"conv_id\"] == sparts[\"conv_id\"]:\n",
    "            prevsent = cparts[\"utterance\"]\n",
    "            history.append(prevsent)\n",
    "            idx = int(sparts[\"utterance_idx\"])\n",
    "            if ((idx % 2) == 0):\n",
    "                context = \" SOC \".join(history[-max_hist_len:])\n",
    "                # context = \"\"\n",
    "                # for string in history[-max_hist_len:]:\n",
    "                #     context +=  string\n",
    "                # context = \"<|endoftext|>\" + context + \"<|endoftext|> \"\n",
    "                # label = \"<|endoftext|> \" + sparts[\"utterance\"] + \" <|endoftext|>\"\n",
    "                label = sparts[\"utterance\"]\n",
    "                data_upd.append(\n",
    "                    {'conversation': {'input_text': context, 'label': label}})\n",
    "\n",
    "        else:\n",
    "            history = []\n",
    "    return pd.DataFrame(data=data_upd, columns=[\"conversation\"])\n"
   ]
  },
  {
   "cell_type": "code",
   "execution_count": 6,
   "metadata": {},
   "outputs": [],
   "source": [
    "preprocess_train = preprocess_data(train_data)\n",
    "preprocess_test = preprocess_data(test_data)\n",
    "preprocess_val = preprocess_data(val_data)\n"
   ]
  },
  {
   "cell_type": "code",
   "execution_count": 7,
   "metadata": {},
   "outputs": [],
   "source": [
    "preprocess_train.to_pickle('./datasets/train.pkl')\n",
    "preprocess_test.to_pickle('./datasets/test.pkl')\n",
    "preprocess_val.to_pickle('./datasets/val.pkl')\n"
   ]
  },
  {
   "cell_type": "code",
   "execution_count": 8,
   "metadata": {},
   "outputs": [
    {
     "name": "stdout",
     "output_type": "stream",
     "text": [
      "                                                                                                                                                                                                                                                                                                                                                             conversation\n",
      "20446                                                {'input_text': 'I was shocked. I was at the state park walking through the woods and I swear I saw a Bigfoot. SOC I would have been so excited lol.  What did it look like?! SOC Just like you think it would.. big, tall, hairy walking ape sorta thing', 'label': 'Was anyone with you?  Did anyone believe you?'}\n",
      "24714                                                                                                                     {'input_text': 'My neighbor returned my wallet today. SOC Where did you lose it at? SOC I lost it at the park. I am so thankful that he found it.', 'label': 'Yeah, that is a good thing he found it and not someone else. What are the odds.'}\n",
      "35117                                                                                                                                                                                                                   {'input_text': 'A friend of mine just bought a new car. It just happened to be the the one I always wanted.', 'label': 'WHat kind of car is it?'}\n",
      "19263                                                                                                                                                                                                                                                      {'input_text': 'I went to the bowling alley all by myself last night.', 'label': 'Did you have fun at least?'}\n",
      "5966   {'input_text': 'I just replaced my headlights in my truck and one of them went out inside of a week. SOC That's very irritating! Is it difficult to change the headlights in your truck? SOC It's not but its a pain in the neck and $35 ', 'label': 'Yeah that shouldn't happen. I hate changing the headlights on my car. They made it really tough to get to.'}\n"
     ]
    }
   ],
   "source": [
    "print(preprocess_train.sample(5).to_string())\n"
   ]
  }
 ],
 "metadata": {
  "kernelspec": {
   "display_name": "Python 3",
   "language": "python",
   "name": "python3"
  },
  "language_info": {
   "codemirror_mode": {
    "name": "ipython",
    "version": 3
   },
   "file_extension": ".py",
   "mimetype": "text/x-python",
   "name": "python",
   "nbconvert_exporter": "python",
   "pygments_lexer": "ipython3",
   "version": "3.9.6"
  },
  "orig_nbformat": 4
 },
 "nbformat": 4,
 "nbformat_minor": 2
}
